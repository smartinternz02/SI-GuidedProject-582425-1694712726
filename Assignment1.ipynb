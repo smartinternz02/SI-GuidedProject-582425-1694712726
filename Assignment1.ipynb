{
  "nbformat": 4,
  "nbformat_minor": 0,
  "metadata": {
    "colab": {
      "provenance": [],
      "authorship_tag": "ABX9TyMwFMJ+glBVRiVMr3cwwcrE",
      "include_colab_link": true
    },
    "kernelspec": {
      "name": "python3",
      "display_name": "Python 3"
    },
    "language_info": {
      "name": "python"
    }
  },
  "cells": [
    {
      "cell_type": "markdown",
      "metadata": {
        "id": "view-in-github",
        "colab_type": "text"
      },
      "source": [
        "<a href=\"https://colab.research.google.com/github/smartinternz02/SI-GuidedProject-582425-1694712726/blob/main/Assignment1.ipynb\" target=\"_parent\"><img src=\"https://colab.research.google.com/assets/colab-badge.svg\" alt=\"Open In Colab\"/></a>"
      ]
    },
    {
      "cell_type": "markdown",
      "source": [
        "# Assignment 1\n",
        "Task - 1 Create a pandas dataframe (DataFrame name as 'df') (10 observation and 5 features)\n",
        "\n",
        "Task- 2 Check the info of 'df'\n",
        "\n",
        "Task 3- Check the descriptive statistics of 'df'\n",
        "\n",
        "Task 4- check the 4th index observation with 'loc' slicing operator.\n",
        "\n",
        "Task 5 - Check the null values in your 'df'"
      ],
      "metadata": {
        "id": "ynp0mQ7omBDb"
      }
    },
    {
      "cell_type": "code",
      "execution_count": null,
      "metadata": {
        "id": "8Sr4SkKvl8qA",
        "colab": {
          "base_uri": "https://localhost:8080/",
          "height": 383
        },
        "outputId": "0581c7ca-a4f2-4ba6-897f-d10687cba212"
      },
      "outputs": [
        {
          "output_type": "execute_result",
          "data": {
            "text/plain": [
              "   Parameter1  Parameter2 Parameter3  Parameter4  Parameter5\n",
              "0    0.470546          20          C    0.281440    0.427020\n",
              "1    0.440849          42          B    0.737808    0.537329\n",
              "2    0.686796          63          A    0.309058    0.978294\n",
              "3    0.483250          19          A    0.551620    0.657036\n",
              "4    0.130623          10          C    0.831181    0.001373\n",
              "5    0.981631          30          C    0.486864    0.664320\n",
              "6    0.087923          99          C   -0.384976    0.032137\n",
              "7    0.005600          33          B    1.368624    0.447216\n",
              "8    0.377544          39          A    1.641281    0.247600\n",
              "9    0.936522          81          A    0.342580    0.484718"
            ],
            "text/html": [
              "\n",
              "  <div id=\"df-2f8fcf5f-7afb-4761-bb26-6e0cdd02a5bf\" class=\"colab-df-container\">\n",
              "    <div>\n",
              "<style scoped>\n",
              "    .dataframe tbody tr th:only-of-type {\n",
              "        vertical-align: middle;\n",
              "    }\n",
              "\n",
              "    .dataframe tbody tr th {\n",
              "        vertical-align: top;\n",
              "    }\n",
              "\n",
              "    .dataframe thead th {\n",
              "        text-align: right;\n",
              "    }\n",
              "</style>\n",
              "<table border=\"1\" class=\"dataframe\">\n",
              "  <thead>\n",
              "    <tr style=\"text-align: right;\">\n",
              "      <th></th>\n",
              "      <th>Parameter1</th>\n",
              "      <th>Parameter2</th>\n",
              "      <th>Parameter3</th>\n",
              "      <th>Parameter4</th>\n",
              "      <th>Parameter5</th>\n",
              "    </tr>\n",
              "  </thead>\n",
              "  <tbody>\n",
              "    <tr>\n",
              "      <th>0</th>\n",
              "      <td>0.470546</td>\n",
              "      <td>20</td>\n",
              "      <td>C</td>\n",
              "      <td>0.281440</td>\n",
              "      <td>0.427020</td>\n",
              "    </tr>\n",
              "    <tr>\n",
              "      <th>1</th>\n",
              "      <td>0.440849</td>\n",
              "      <td>42</td>\n",
              "      <td>B</td>\n",
              "      <td>0.737808</td>\n",
              "      <td>0.537329</td>\n",
              "    </tr>\n",
              "    <tr>\n",
              "      <th>2</th>\n",
              "      <td>0.686796</td>\n",
              "      <td>63</td>\n",
              "      <td>A</td>\n",
              "      <td>0.309058</td>\n",
              "      <td>0.978294</td>\n",
              "    </tr>\n",
              "    <tr>\n",
              "      <th>3</th>\n",
              "      <td>0.483250</td>\n",
              "      <td>19</td>\n",
              "      <td>A</td>\n",
              "      <td>0.551620</td>\n",
              "      <td>0.657036</td>\n",
              "    </tr>\n",
              "    <tr>\n",
              "      <th>4</th>\n",
              "      <td>0.130623</td>\n",
              "      <td>10</td>\n",
              "      <td>C</td>\n",
              "      <td>0.831181</td>\n",
              "      <td>0.001373</td>\n",
              "    </tr>\n",
              "    <tr>\n",
              "      <th>5</th>\n",
              "      <td>0.981631</td>\n",
              "      <td>30</td>\n",
              "      <td>C</td>\n",
              "      <td>0.486864</td>\n",
              "      <td>0.664320</td>\n",
              "    </tr>\n",
              "    <tr>\n",
              "      <th>6</th>\n",
              "      <td>0.087923</td>\n",
              "      <td>99</td>\n",
              "      <td>C</td>\n",
              "      <td>-0.384976</td>\n",
              "      <td>0.032137</td>\n",
              "    </tr>\n",
              "    <tr>\n",
              "      <th>7</th>\n",
              "      <td>0.005600</td>\n",
              "      <td>33</td>\n",
              "      <td>B</td>\n",
              "      <td>1.368624</td>\n",
              "      <td>0.447216</td>\n",
              "    </tr>\n",
              "    <tr>\n",
              "      <th>8</th>\n",
              "      <td>0.377544</td>\n",
              "      <td>39</td>\n",
              "      <td>A</td>\n",
              "      <td>1.641281</td>\n",
              "      <td>0.247600</td>\n",
              "    </tr>\n",
              "    <tr>\n",
              "      <th>9</th>\n",
              "      <td>0.936522</td>\n",
              "      <td>81</td>\n",
              "      <td>A</td>\n",
              "      <td>0.342580</td>\n",
              "      <td>0.484718</td>\n",
              "    </tr>\n",
              "  </tbody>\n",
              "</table>\n",
              "</div>\n",
              "    <div class=\"colab-df-buttons\">\n",
              "\n",
              "  <div class=\"colab-df-container\">\n",
              "    <button class=\"colab-df-convert\" onclick=\"convertToInteractive('df-2f8fcf5f-7afb-4761-bb26-6e0cdd02a5bf')\"\n",
              "            title=\"Convert this dataframe to an interactive table.\"\n",
              "            style=\"display:none;\">\n",
              "\n",
              "  <svg xmlns=\"http://www.w3.org/2000/svg\" height=\"24px\" viewBox=\"0 -960 960 960\">\n",
              "    <path d=\"M120-120v-720h720v720H120Zm60-500h600v-160H180v160Zm220 220h160v-160H400v160Zm0 220h160v-160H400v160ZM180-400h160v-160H180v160Zm440 0h160v-160H620v160ZM180-180h160v-160H180v160Zm440 0h160v-160H620v160Z\"/>\n",
              "  </svg>\n",
              "    </button>\n",
              "\n",
              "  <style>\n",
              "    .colab-df-container {\n",
              "      display:flex;\n",
              "      gap: 12px;\n",
              "    }\n",
              "\n",
              "    .colab-df-convert {\n",
              "      background-color: #E8F0FE;\n",
              "      border: none;\n",
              "      border-radius: 50%;\n",
              "      cursor: pointer;\n",
              "      display: none;\n",
              "      fill: #1967D2;\n",
              "      height: 32px;\n",
              "      padding: 0 0 0 0;\n",
              "      width: 32px;\n",
              "    }\n",
              "\n",
              "    .colab-df-convert:hover {\n",
              "      background-color: #E2EBFA;\n",
              "      box-shadow: 0px 1px 2px rgba(60, 64, 67, 0.3), 0px 1px 3px 1px rgba(60, 64, 67, 0.15);\n",
              "      fill: #174EA6;\n",
              "    }\n",
              "\n",
              "    .colab-df-buttons div {\n",
              "      margin-bottom: 4px;\n",
              "    }\n",
              "\n",
              "    [theme=dark] .colab-df-convert {\n",
              "      background-color: #3B4455;\n",
              "      fill: #D2E3FC;\n",
              "    }\n",
              "\n",
              "    [theme=dark] .colab-df-convert:hover {\n",
              "      background-color: #434B5C;\n",
              "      box-shadow: 0px 1px 3px 1px rgba(0, 0, 0, 0.15);\n",
              "      filter: drop-shadow(0px 1px 2px rgba(0, 0, 0, 0.3));\n",
              "      fill: #FFFFFF;\n",
              "    }\n",
              "  </style>\n",
              "\n",
              "    <script>\n",
              "      const buttonEl =\n",
              "        document.querySelector('#df-2f8fcf5f-7afb-4761-bb26-6e0cdd02a5bf button.colab-df-convert');\n",
              "      buttonEl.style.display =\n",
              "        google.colab.kernel.accessAllowed ? 'block' : 'none';\n",
              "\n",
              "      async function convertToInteractive(key) {\n",
              "        const element = document.querySelector('#df-2f8fcf5f-7afb-4761-bb26-6e0cdd02a5bf');\n",
              "        const dataTable =\n",
              "          await google.colab.kernel.invokeFunction('convertToInteractive',\n",
              "                                                    [key], {});\n",
              "        if (!dataTable) return;\n",
              "\n",
              "        const docLinkHtml = 'Like what you see? Visit the ' +\n",
              "          '<a target=\"_blank\" href=https://colab.research.google.com/notebooks/data_table.ipynb>data table notebook</a>'\n",
              "          + ' to learn more about interactive tables.';\n",
              "        element.innerHTML = '';\n",
              "        dataTable['output_type'] = 'display_data';\n",
              "        await google.colab.output.renderOutput(dataTable, element);\n",
              "        const docLink = document.createElement('div');\n",
              "        docLink.innerHTML = docLinkHtml;\n",
              "        element.appendChild(docLink);\n",
              "      }\n",
              "    </script>\n",
              "  </div>\n",
              "\n",
              "\n",
              "<div id=\"df-f6122db7-0da5-4df5-939d-06827a0c6f59\">\n",
              "  <button class=\"colab-df-quickchart\" onclick=\"quickchart('df-f6122db7-0da5-4df5-939d-06827a0c6f59')\"\n",
              "            title=\"Suggest charts.\"\n",
              "            style=\"display:none;\">\n",
              "\n",
              "<svg xmlns=\"http://www.w3.org/2000/svg\" height=\"24px\"viewBox=\"0 0 24 24\"\n",
              "     width=\"24px\">\n",
              "    <g>\n",
              "        <path d=\"M19 3H5c-1.1 0-2 .9-2 2v14c0 1.1.9 2 2 2h14c1.1 0 2-.9 2-2V5c0-1.1-.9-2-2-2zM9 17H7v-7h2v7zm4 0h-2V7h2v10zm4 0h-2v-4h2v4z\"/>\n",
              "    </g>\n",
              "</svg>\n",
              "  </button>\n",
              "\n",
              "<style>\n",
              "  .colab-df-quickchart {\n",
              "    background-color: #E8F0FE;\n",
              "    border: none;\n",
              "    border-radius: 50%;\n",
              "    cursor: pointer;\n",
              "    display: none;\n",
              "    fill: #1967D2;\n",
              "    height: 32px;\n",
              "    padding: 0 0 0 0;\n",
              "    width: 32px;\n",
              "  }\n",
              "\n",
              "  .colab-df-quickchart:hover {\n",
              "    background-color: #E2EBFA;\n",
              "    box-shadow: 0px 1px 2px rgba(60, 64, 67, 0.3), 0px 1px 3px 1px rgba(60, 64, 67, 0.15);\n",
              "    fill: #174EA6;\n",
              "  }\n",
              "\n",
              "  [theme=dark] .colab-df-quickchart {\n",
              "    background-color: #3B4455;\n",
              "    fill: #D2E3FC;\n",
              "  }\n",
              "\n",
              "  [theme=dark] .colab-df-quickchart:hover {\n",
              "    background-color: #434B5C;\n",
              "    box-shadow: 0px 1px 3px 1px rgba(0, 0, 0, 0.15);\n",
              "    filter: drop-shadow(0px 1px 2px rgba(0, 0, 0, 0.3));\n",
              "    fill: #FFFFFF;\n",
              "  }\n",
              "</style>\n",
              "\n",
              "  <script>\n",
              "    async function quickchart(key) {\n",
              "      const charts = await google.colab.kernel.invokeFunction(\n",
              "          'suggestCharts', [key], {});\n",
              "    }\n",
              "    (() => {\n",
              "      let quickchartButtonEl =\n",
              "        document.querySelector('#df-f6122db7-0da5-4df5-939d-06827a0c6f59 button');\n",
              "      quickchartButtonEl.style.display =\n",
              "        google.colab.kernel.accessAllowed ? 'block' : 'none';\n",
              "    })();\n",
              "  </script>\n",
              "</div>\n",
              "    </div>\n",
              "  </div>\n"
            ]
          },
          "metadata": {},
          "execution_count": 6
        }
      ],
      "source": [
        "import pandas as pd\n",
        "import numpy as np\n",
        "\n",
        "# Task 1: Create a pandas DataFrame\n",
        "data = {\n",
        "    'Parameter1': np.random.rand(10),\n",
        "    'Parameter2': np.random.randint(1, 100, 10),\n",
        "    'Parameter3': np.random.choice(['A', 'B', 'C'], 10),\n",
        "    'Parameter4': np.random.randn(10),\n",
        "    'Parameter5': np.random.uniform(0, 1, 10)\n",
        "}\n",
        "\n",
        "df = pd.DataFrame(data)\n",
        "df\n",
        "\n"
      ]
    },
    {
      "cell_type": "code",
      "source": [
        "# Task 2: Check the info of 'df'\n",
        "print(df.info())\n",
        "print(\"\\n\")"
      ],
      "metadata": {
        "colab": {
          "base_uri": "https://localhost:8080/"
        },
        "id": "cSAP_1OEP4-M",
        "outputId": "a4f005e7-a8a4-478f-8043-0292d6b6e344"
      },
      "execution_count": null,
      "outputs": [
        {
          "output_type": "stream",
          "name": "stdout",
          "text": [
            "<class 'pandas.core.frame.DataFrame'>\n",
            "RangeIndex: 10 entries, 0 to 9\n",
            "Data columns (total 5 columns):\n",
            " #   Column      Non-Null Count  Dtype  \n",
            "---  ------      --------------  -----  \n",
            " 0   Parameter1  10 non-null     float64\n",
            " 1   Parameter2  10 non-null     int64  \n",
            " 2   Parameter3  10 non-null     object \n",
            " 3   Parameter4  10 non-null     float64\n",
            " 4   Parameter5  10 non-null     float64\n",
            "dtypes: float64(3), int64(1), object(1)\n",
            "memory usage: 528.0+ bytes\n",
            "None\n",
            "\n",
            "\n"
          ]
        }
      ]
    },
    {
      "cell_type": "code",
      "source": [
        "# Task 3: Check the descriptive statistics of 'df'\n",
        "print(df.describe())\n",
        "print(\"\\n\")\n"
      ],
      "metadata": {
        "colab": {
          "base_uri": "https://localhost:8080/"
        },
        "id": "BajaFMXcP7uO",
        "outputId": "fbce5e1b-77c2-4392-bfb9-4c2c01a9689b"
      },
      "execution_count": null,
      "outputs": [
        {
          "output_type": "stream",
          "name": "stdout",
          "text": [
            "       Parameter1  Parameter2  Parameter4  Parameter5\n",
            "count   10.000000   10.000000   10.000000   10.000000\n",
            "mean     0.460129   43.600000    0.616548    0.447704\n",
            "std      0.335300   28.783483    0.575660    0.297031\n",
            "min      0.005600   10.000000   -0.384976    0.001373\n",
            "25%      0.192353   22.500000    0.317439    0.292455\n",
            "50%      0.455697   36.000000    0.519242    0.465967\n",
            "75%      0.635909   57.750000    0.807838    0.627109\n",
            "max      0.981631   99.000000    1.641281    0.978294\n",
            "\n",
            "\n"
          ]
        }
      ]
    },
    {
      "cell_type": "code",
      "source": [
        "\n",
        "# Task 4: Check the 4th index observation with 'loc' slicing operator\n",
        "print(df.loc[4])\n",
        "print(\"\\n\")"
      ],
      "metadata": {
        "colab": {
          "base_uri": "https://localhost:8080/"
        },
        "id": "7N04hCGGP9z0",
        "outputId": "04629c88-8790-4185-87a0-e766eb7a66ae"
      },
      "execution_count": null,
      "outputs": [
        {
          "output_type": "stream",
          "name": "stdout",
          "text": [
            "Parameter1    0.130623\n",
            "Parameter2          10\n",
            "Parameter3           C\n",
            "Parameter4    0.831181\n",
            "Parameter5    0.001373\n",
            "Name: 4, dtype: object\n",
            "\n",
            "\n"
          ]
        }
      ]
    },
    {
      "cell_type": "code",
      "source": [
        "# Task 5: Check the null values in 'df'\n",
        "print(df.isnull().sum())"
      ],
      "metadata": {
        "colab": {
          "base_uri": "https://localhost:8080/"
        },
        "id": "WLv9P15ZP_nL",
        "outputId": "39861295-2bc3-4da3-daac-d3822445e083"
      },
      "execution_count": null,
      "outputs": [
        {
          "output_type": "stream",
          "name": "stdout",
          "text": [
            "Parameter1    0\n",
            "Parameter2    0\n",
            "Parameter3    0\n",
            "Parameter4    0\n",
            "Parameter5    0\n",
            "dtype: int64\n"
          ]
        }
      ]
    }
  ]
}